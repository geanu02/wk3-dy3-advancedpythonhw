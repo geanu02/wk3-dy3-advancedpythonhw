{
 "cells": [
  {
   "cell_type": "markdown",
   "id": "9c9bdaf4",
   "metadata": {},
   "source": [
    "# White Board\n",
    "## Week 3 Day 3"
   ]
  },
  {
   "cell_type": "markdown",
   "id": "6ca575d8",
   "metadata": {},
   "source": [
    "# DESCRIPTION:\n",
    "# Given a string, return a string that :\n",
    "# Moves the first letter of each word to the end of it, then adds “ay” to the end of the word. Leave punctuation marks untouched.\n",
    "# Examples\n",
    "# pig_it(‘Pig latin is cool’) : ‘igPay atinlay siay oolcay’\n",
    "# pig_it(‘Hello world !’)     : ‘elloHay orldway !’"
   ]
  },
  {
   "cell_type": "code",
   "execution_count": 4,
   "id": "ffc48d02",
   "metadata": {},
   "outputs": [
    {
     "name": "stdout",
     "output_type": "stream",
     "text": [
      "igPay atinlay siay oolcay\n",
      "elloHay orldway !\n"
     ]
    }
   ],
   "source": [
    "string_1 = \"igPay atinlay siay oolcay\"\n",
    "string_2 = \"elloHay orldway !\"\n",
    "\n",
    "def pigLatin(str_param):\n",
    "    word_list = str_param.split()\n",
    "    new_word = ''\n",
    "    for word in word_list:\n",
    "        if word.isalpha():\n",
    "            new_word += word[1:] + word[0] + 'ay '\n",
    "        else:\n",
    "            new_word += word\n",
    "    return new_word.rstrip()\n",
    "\n",
    "print(string_1)\n",
    "print(string_2)"
   ]
  },
  {
   "cell_type": "code",
   "execution_count": null,
   "id": "66ced893",
   "metadata": {},
   "outputs": [],
   "source": [
    "def convert(astr):\n",
    "    return ' '.join(map(lambda word: f\"{word[1:]}{word[0]}ay\" if word.isalpha() else word, astr.split()))"
   ]
  }
 ],
 "metadata": {
  "kernelspec": {
   "display_name": "Python 3 (ipykernel)",
   "language": "python",
   "name": "python3"
  },
  "language_info": {
   "codemirror_mode": {
    "name": "ipython",
    "version": 3
   },
   "file_extension": ".py",
   "mimetype": "text/x-python",
   "name": "python",
   "nbconvert_exporter": "python",
   "pygments_lexer": "ipython3",
   "version": "3.9.13"
  }
 },
 "nbformat": 4,
 "nbformat_minor": 5
}

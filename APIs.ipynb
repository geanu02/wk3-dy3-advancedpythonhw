{
 "cells": [
  {
   "cell_type": "markdown",
   "metadata": {},
   "source": [
    "# APIs\n"
   ]
  },
  {
   "cell_type": "markdown",
   "metadata": {},
   "source": [
    "## Tasks Today:\n",
    "1) <b>Requests and the pokemon API </b> <br>\n",
    " "
   ]
  },
  {
   "cell_type": "markdown",
   "metadata": {},
   "source": [
    "# working with APis"
   ]
  },
  {
   "cell_type": "markdown",
   "metadata": {},
   "source": [
    "<p> What exactly is an API? <br> <br>\n",
    "API is the acronym for Application Programming Interface, which is a software intermediary that allows two applications to talk to each other. Each time you use an app like Facebook, send an instant message, or check the weather on your phone, you're using an API. </p>"
   ]
  },
  {
   "cell_type": "markdown",
   "metadata": {},
   "source": [
    "### The Poke API  allows you to retreive a pokemon's information from PokeAPI https://pokeapi.co/\n",
    "\n"
   ]
  },
  {
   "cell_type": "code",
   "execution_count": null,
   "metadata": {
    "scrolled": true
   },
   "outputs": [],
   "source": [
    "# making an API call\n",
    "import requests\n",
    "\n",
    "api_endpoint = \"https://pokeapi.co/api/v2/pokemon/\"\n",
    "\n",
    "poke_name = input('What Pokemon are you looking for? ')\n",
    "response = requests.get(f\"{api_endpoint}{poke_name}\")\n",
    "\n",
    "if response.status_code == 200:\n",
    "    data = response.json()\n",
    "    \n",
    "    print(f\"Success. 'data' for {poke_name} ready\")\n",
    "else:\n",
    "    print(f\"Error: Status Code {response.status_code}\")"
   ]
  },
  {
   "cell_type": "markdown",
   "metadata": {},
   "source": [
    "### Display a Pokemon's name, weight, abilities, and types"
   ]
  },
  {
   "cell_type": "code",
   "execution_count": null,
   "metadata": {},
   "outputs": [],
   "source": [
    "# get the name\n",
    "name = data['name']"
   ]
  },
  {
   "cell_type": "code",
   "execution_count": null,
   "metadata": {},
   "outputs": [],
   "source": [
    "# get types\n",
    "type = data['types'][0]"
   ]
  },
  {
   "cell_type": "code",
   "execution_count": null,
   "metadata": {},
   "outputs": [],
   "source": [
    "# get weight\n",
    "weight = data['weight']"
   ]
  },
  {
   "cell_type": "code",
   "execution_count": null,
   "metadata": {},
   "outputs": [],
   "source": [
    "# get abilities\n",
    "abilities = data['abilities']"
   ]
  },
  {
   "cell_type": "code",
   "execution_count": null,
   "metadata": {},
   "outputs": [],
   "source": [
    "[ability_dict['ability']['name'] for ability_dict in abilities]"
   ]
  },
  {
   "cell_type": "code",
   "execution_count": null,
   "metadata": {},
   "outputs": [],
   "source": [
    "# Create a structure for a single pokemon"
   ]
  },
  {
   "cell_type": "code",
   "execution_count": null,
   "metadata": {},
   "outputs": [],
   "source": [
    "pokemon_dict = {\n",
    "    'name': data['name'],\n",
    "    'type': [type_dict for type_dict in data['types'][0]]\n",
    "}"
   ]
  },
  {
   "cell_type": "markdown",
   "metadata": {},
   "source": [
    "#### Create a function to Pull in your own Pokemon's data "
   ]
  },
  {
   "cell_type": "code",
   "execution_count": null,
   "metadata": {},
   "outputs": [],
   "source": [
    "def poke_api_call(poke_name):\n",
    "    response = requests.get(f\"https://pokeapi.co/api/v2/pokemon/{poke_name}\")\n",
    "    if response.status_code == 200:\n",
    "        data = response.json()\n",
    "        print(f\"Success. 'data' for {poke_name} ready\")\n",
    "        pokemon_dict = {key: data[key] for key in ['name', 'types', 'weight', 'abilities']}\n",
    "        return pokemon_dict\n",
    "    else:\n",
    "        print(f\"Error: Status Code {response.status_code}\")\n",
    "        \n",
    "poke_api_call('jirachi')"
   ]
  },
  {
   "cell_type": "markdown",
   "metadata": {},
   "source": [
    "Choose your pokemon"
   ]
  },
  {
   "cell_type": "code",
   "execution_count": null,
   "metadata": {},
   "outputs": [],
   "source": [
    "from random import randint\n",
    "# Random number generated for each pokemon id\n",
    "random_team = [randint(1,898) for i in range(6)]\n",
    "\n",
    "print(random_team)\n",
    "\n",
    "your_team = ['electabuzz', 'haunter','tyranitar','blaziken','marowak','dragonair']\n"
   ]
  },
  {
   "cell_type": "markdown",
   "metadata": {},
   "source": [
    "#### Use your function to create a dictionary of your Johto League 6  (favorite 6 pokemon)"
   ]
  },
  {
   "cell_type": "code",
   "execution_count": null,
   "metadata": {},
   "outputs": [],
   "source": [
    "# Place all 6 of your pokemon on the object below, each pokemon should have at least as much info as Pikachu did.\n",
    "my_six_pokemon = {}\n",
    "\n",
    "for i in random_team:\n",
    "    poke_dict = poke_api_call(i)\n",
    "    my_six_pokemon[poke_dict['name']] = poke_dict\n",
    "\n",
    "for k in my_six_pokemon:\n",
    "    print(k, '\\n' , my_six_pokemon[k])"
   ]
  },
  {
   "cell_type": "markdown",
   "metadata": {},
   "source": [
    "## Lets create a class called 'Pokemon' and create our pokemon as instances"
   ]
  },
  {
   "cell_type": "code",
   "execution_count": null,
   "metadata": {},
   "outputs": [],
   "source": [
    "import requests\n",
    "\n",
    "class Pokemon():\n",
    "    def __init__(self, name, nickname):\n",
    "        self.name = name\n",
    "        self.nickname = nickname\n",
    "        self.abilities = []\n",
    "        self.types = []\n",
    "        self.weight = None\n",
    "        self.image = None\n",
    "        self.call_poke_api()\n",
    "        \n",
    "    def call_poke_api(self):\n",
    "        response = requests.get(f\"https://pokeapi.co/api/v2/pokemon/{self.name}\")\n",
    "        if response.status_code == 200:\n",
    "            data = response.json()\n",
    "            self.abilities = [abil['ability']['name'] for abil in data['abilities']]\n",
    "            self.types = [typ['type']['name'] for typ in data['types']]\n",
    "            self.weight = data['weight']\n",
    "            self.image = data['sprites']['versions']['generation-v']['black-white']['animated']['front_default']\n",
    "            if not self.image:\n",
    "                self.image = data['sprites']['front_default']\n",
    "        else:\n",
    "            print(f\"Error: Status Code {response.status_code}\")"
   ]
  },
  {
   "cell_type": "code",
   "execution_count": null,
   "metadata": {},
   "outputs": [],
   "source": [
    "new_poke = Pokemon('ho-oh', 'charmel')\n",
    "new_poke.call_poke_api()\n",
    "print(new_poke.abilities)"
   ]
  },
  {
   "cell_type": "code",
   "execution_count": null,
   "metadata": {
    "scrolled": true
   },
   "outputs": [],
   "source": [
    "new_poke.image"
   ]
  },
  {
   "cell_type": "code",
   "execution_count": null,
   "metadata": {},
   "outputs": [],
   "source": [
    "from IPython.display import Image\n",
    "\n",
    "display(Image(new_poke.image, width = 300))"
   ]
  },
  {
   "cell_type": "markdown",
   "metadata": {},
   "source": [
    "### Let's Catch some Pokemon"
   ]
  },
  {
   "cell_type": "code",
   "execution_count": null,
   "metadata": {},
   "outputs": [],
   "source": [
    "gians_pokemon = ['ceruledge', 'armarouge', 'typhlosion', 'decidueye', 'dragonite', 'quaquaval']"
   ]
  },
  {
   "cell_type": "code",
   "execution_count": null,
   "metadata": {},
   "outputs": [],
   "source": []
  },
  {
   "cell_type": "code",
   "execution_count": null,
   "metadata": {},
   "outputs": [],
   "source": [
    "pokedex = {pokemon: Pokemon(pokemon, \"nickname\") for pokemon in gians_pokemon}"
   ]
  },
  {
   "cell_type": "code",
   "execution_count": null,
   "metadata": {},
   "outputs": [],
   "source": [
    "class Pokedex:\n",
    "    \n",
    "    def __init__(self, username):\n",
    "        self.username = username\n",
    "        self.pokemon = {}\n",
    "        \n",
    "    def add_pokemon(self, pokemon):\n",
    "        self.pokemon[pokemon] = Pokemon(pokemon, f\"{self.username.title()}'s {pokemon.title()}\")\n",
    "        \n",
    "new_pokedex = Pokedex(\"gian\")\n",
    "for pokemon_name in gians_pokemon:\n",
    "    new_pokedex.add_pokemon(pokemon_name)\n",
    "new_pokedex.username\n",
    "\n",
    "print(new_pokedex.pokemon)"
   ]
  },
  {
   "cell_type": "code",
   "execution_count": null,
   "metadata": {},
   "outputs": [],
   "source": [
    "def print_user_pokemon(pokedex):\n",
    "    print(f\"{pokedex.username}\\'s Pokemon:\")\n",
    "    for poke in pokedex.pokemon:\n",
    "        print(pokedex.pokemon[poke].name)\n",
    "        \n",
    "print_user_pokemon(new_pokedex)"
   ]
  },
  {
   "cell_type": "markdown",
   "metadata": {},
   "source": [
    "## Exercise 1:"
   ]
  },
  {
   "cell_type": "markdown",
   "metadata": {},
   "source": [
    "### Create a Method prints an image of your pokemon\n",
    "\n",
    "<p>HINT: You may need another attribute as well to store your image url within. </p>"
   ]
  },
  {
   "cell_type": "code",
   "execution_count": 1,
   "metadata": {},
   "outputs": [],
   "source": [
    "from IPython.display import Image, clear_output\n",
    "import requests\n",
    "\n",
    "class Pokemon():\n",
    "    def __init__(self, input_str):\n",
    "        self.input_str = input_str\n",
    "        self.poke_name = None\n",
    "        self.poke_id = None\n",
    "        self.abilities = []\n",
    "        self.types = []\n",
    "        self.weight = None\n",
    "        self.image = None\n",
    "        self.evolves_to = []\n",
    "        self.evo_info = None\n",
    "        self.call_poke_api()\n",
    "        \n",
    "    def call_poke_api(self):\n",
    "        info_res = self.api_call(f\"https://pokeapi.co/api/v2/pokemon/{self.input_str}\")\n",
    "        if info_res[0] == 200:\n",
    "            data = info_res[1]\n",
    "            self.poke_id = data['id']\n",
    "            self.poke_name = data['name']\n",
    "            self.abilities = [abi['ability']['name'] for abi in data['abilities']]\n",
    "            self.types = [typ['type']['name'] for typ in data['types']]\n",
    "            self.weight = data['weight']\n",
    "            self.image = data['sprites']['versions']['generation-v']['black-white']['animated']['front_default']\n",
    "            if not self.image:\n",
    "                self.image = data['sprites']['front_default']\n",
    "            species_res = self.api_call(data['species']['url'])\n",
    "            if species_res[0] == 200:\n",
    "                evolution_res = self.api_call(species_res[1]['evolution_chain']['url'])\n",
    "                if evolution_res[0] == 200:\n",
    "                    self.evo_info = evolution_res[1]\n",
    "                    self.fill_evolutions()\n",
    "                else:\n",
    "                    print(f\"Error Get Evolutionary Chain: Status Code {evolution_res[0]}\")\n",
    "                \n",
    "            else:\n",
    "                print(f\"Error Get Species: Status Code {species_res[0]}\")\n",
    "        else:\n",
    "            print(f\"Error Get Info: Status Code {info_res[0]}\")\n",
    "            \n",
    "    def print_pokemon(self):\n",
    "        return display(Image(self.image, width = 200))\n",
    "    \n",
    "    def evolve(self):\n",
    "        if self.evolves_to == None:\n",
    "            print(\"This Pokemon does not evolve.\")\n",
    "        else:\n",
    "            confirm_evo = input(f\"Evolve {self.poke_name.title()} to {self.evolves_to.title()}? (y/n) \").lower()\n",
    "            if confirm_evo == 'y' or confirm_evo == 'yes':\n",
    "                pass\n",
    "            elif confirm_evo == 'n' or confirm_evo == 'no':\n",
    "                print(\"Evolution cancelled.\")\n",
    "            else:\n",
    "                print(\"Not a valid response. Evolution cancelled.\")\n",
    "            \n",
    "    def fill_evolutions(self):\n",
    "        self.evolves_to = []\n",
    "        if self.evo_info['chain']['species']['name'] == self.poke_name:\n",
    "            for _name in self.evo_info['chain']['evolves_to']:\n",
    "                self.evolves_to.append(_name['species']['name'])\n",
    "        elif self.evo_info['chain']['evolves_to'][0]['species']['name'] == self.poke_name:\n",
    "            for _name in self.evo_info['chain']['evolves_to'][0]['evolves_to']:\n",
    "                self.evolves_to.append(_name['species']['name'])\n",
    "        else:\n",
    "            self.evolves_to = []\n",
    "            \n",
    "    def api_call(self, endpoint_url):\n",
    "        res = requests.get(endpoint_url)\n",
    "        if res.status_code == 200:\n",
    "            return (200, res.json())\n",
    "        else:\n",
    "            return ({res.status_code}, {})"
   ]
  },
  {
   "cell_type": "code",
   "execution_count": null,
   "metadata": {},
   "outputs": [],
   "source": [
    "char = Pokemon(\"charmander\")\n",
    "print(char.evolves_to)"
   ]
  },
  {
   "cell_type": "code",
   "execution_count": null,
   "metadata": {
    "scrolled": false
   },
   "outputs": [],
   "source": [
    "# Charmander\n",
    "\n",
    "print(char.evo_info['chain']['species']['name'])\n",
    "print(char.evo_info['chain']['evolves_to'][0]['species']['name'])"
   ]
  },
  {
   "cell_type": "code",
   "execution_count": null,
   "metadata": {},
   "outputs": [],
   "source": [
    "# Charmeleon\n",
    "print(char.evo_info['chain']['evolves_to'][0]['species']['name'])\n",
    "print(char.evo_info['chain']['evolves_to'][0]['evolves_to'][0]['species']['name'])"
   ]
  },
  {
   "cell_type": "code",
   "execution_count": null,
   "metadata": {},
   "outputs": [],
   "source": [
    "def find(pokemon_name):\n",
    "    if char.evo_info['chain']['evolves_to'][0]['species']['name'] == pokemon_name:\n",
    "        if char.evo_info['chain']['evolves_to'][0]['evolves_to'][0]['species']['name']:\n",
    "            return char.evo_info['chain']['evolves_to'][0]['evolves_to'][0]['species']['name']\n",
    "    if char.evo_info['chain']['species']['name'] == self.poke_name:\n",
    "        for _name in self.evo_info['chain']['evolves_to']:\n",
    "            _name['species']['name'])\n",
    "    elif self.evo_info['chain']['evolves_to'][0]['species']['name'] == self.poke_name:\n",
    "        for _name in self.evo_info['chain']['evolves_to'][0]['species']['name']:\n",
    "            self.evolves_to.append(_name['species']['name'])\n",
    "\n",
    "find('charmeleon')\n",
    "evolves_to = []\n",
    "for _name in char.evo_info['chain']['evolves_to']:\n",
    "    evolves_to.append(_name['species']['name'])\n",
    "print(evolves_to)"
   ]
  },
  {
   "cell_type": "code",
   "execution_count": 8,
   "metadata": {},
   "outputs": [],
   "source": [
    "class Pokedex:\n",
    "    def __init__(self, username):\n",
    "        self.username = username\n",
    "        self.pokemon = {}\n",
    "        \n",
    "    def roster(self):\n",
    "        print(f\"{self.username}\\'s Pokemon: {', '.join(self.pokemon.keys()).title()}\")\n",
    "        \n",
    "    def add_pokemon(self, pokemon):\n",
    "        self.pokemon[pokemon] = Pokemon(pokemon)\n",
    "        \n",
    "    def evolve(self, input_pokemon):\n",
    "        if input_pokemon.lower() in self.pokemon:\n",
    "            evolving_pokemon = input_pokemon.lower()\n",
    "            evo_list = self.pokemon[evolving_pokemon].evolves_to\n",
    "            if len(evo_list) == 0:\n",
    "                print(\"{evolving_pokemon} does not evolve.\")\n",
    "            elif len(evo_list) == 1:\n",
    "                next_pokemon = evo_list[0]\n",
    "                self.pokemon[evolving_pokemon].print_pokemon()\n",
    "                confirm_evo = input(f\"Evolve {evolving_pokemon.title()} to {next_pokemon.title()}? (y/n) \").lower()\n",
    "                if confirm_evo == 'y' or confirm_evo == 'yes':\n",
    "                    self.pokemon.pop(evolving_pokemon)\n",
    "                    self.pokemon[next_pokemon] = Pokemon(next_pokemon)\n",
    "                    clear_output()\n",
    "                    print(f\"Congratulations! {evolving_pokemon.title()} has evolved into {next_pokemon.title()}!\")\n",
    "                    self.pokemon[next_pokemon].print_pokemon()\n",
    "                elif confirm_evo == 'n' or confirm_evo == 'no':\n",
    "                    print(\"Evolution cancelled.\")\n",
    "                else:\n",
    "                    print(\"Not a valid response. Evolution cancelled.\")\n",
    "            elif len(evo_list) > 1:\n",
    "                self.pokemon[evolving_pokemon].print_pokemon()\n",
    "                next_pokemon = input(f\"{evolving_pokemon.title()} can evolve to {str(', '.join(evo_list)).title()}. Which Pokemon to evolve to? \").lower()\n",
    "                if next_pokemon in evo_list:\n",
    "                    confirm_evo = input(f\"Evolve {evolving_pokemon.title()} to {next_pokemon.title()}? (y/n) \").lower()\n",
    "                    self.pokemon.pop(evolving_pokemon)\n",
    "                    self.pokemon[next_pokemon] = Pokemon(next_pokemon)\n",
    "                    clear_output()\n",
    "                    print(f\"Congratulations! {evolving_pokemon.title()} has evolved into {next_pokemon.title()}!\")\n",
    "                    self.pokemon[next_pokemon].print_pokemon()\n",
    "                else:\n",
    "                    print(\"Not a valid response. Evolution cancelled.\")\n",
    "        else:\n",
    "            print(f\"{input_pokemon} not found in {self.username.title()}'s pokedex.\")"
   ]
  },
  {
   "cell_type": "code",
   "execution_count": 9,
   "metadata": {},
   "outputs": [
    {
     "name": "stdout",
     "output_type": "stream",
     "text": [
      "Gian's Pokemon: Bulbasaur, Oshawott, Swinub, Gastly, Wooper, Eevee\n"
     ]
    }
   ],
   "source": [
    "gians_pokelist = ['bulbasaur', 'oshawott', 'swinub', 'gastly', 'wooper', 'eevee']\n",
    "gian_dex = Pokedex(\"Gian\")\n",
    "for _name in gians_pokelist:\n",
    "    gian_dex.add_pokemon(_name)\n",
    "\n",
    "gian_dex.roster()"
   ]
  },
  {
   "cell_type": "code",
   "execution_count": null,
   "metadata": {},
   "outputs": [],
   "source": [
    "# Exercise 1: Display Images Homework\n",
    "# print_pokemon method can be accessed on the Pokemon class\n",
    "\n",
    "gian_dex.pokemon['lugia'].print_pokemon()\n",
    "gian_dex.pokemon['bulbasaur'].print_pokemon()"
   ]
  },
  {
   "cell_type": "markdown",
   "metadata": {},
   "source": [
    "## Exercise 2:"
   ]
  },
  {
   "cell_type": "markdown",
   "metadata": {},
   "source": [
    "### Create a Method that evolves your Pokemon\n",
    "If your pokemon can't evolve any further print a message that says \"\\<name of pokemon> can't evolve.\""
   ]
  },
  {
   "cell_type": "code",
   "execution_count": 12,
   "metadata": {},
   "outputs": [
    {
     "name": "stdout",
     "output_type": "stream",
     "text": [
      "Gian's Pokemon: Bulbasaur, Oshawott, Swinub, Gastly, Wooper, Glaceon\n"
     ]
    }
   ],
   "source": [
    "# Display current roster\n",
    "gian_dex.roster()"
   ]
  },
  {
   "cell_type": "code",
   "execution_count": 11,
   "metadata": {},
   "outputs": [
    {
     "name": "stdout",
     "output_type": "stream",
     "text": [
      "Congratulations! Eevee has evolved into Glaceon!\n"
     ]
    },
    {
     "data": {
      "image/gif": "[encoded data removed]",
      "text/plain": [
       "<IPython.core.display.Image object>"
      ]
     },
     "metadata": {
      "image/gif": {
       "width": 200
      }
     },
     "output_type": "display_data"
    }
   ],
   "source": [
    "# Check if pokemon has evolved\n",
    "\n",
    "gian_dex.evolve(\"Eevee\")"
   ]
  },
  {
   "cell_type": "markdown",
   "metadata": {},
   "source": [
    "Now let's evolve a few"
   ]
  },
  {
   "cell_type": "code",
   "execution_count": null,
   "metadata": {
    "scrolled": true
   },
   "outputs": [
    {
     "data": {
      "image/gif": "[encoded data removed]",
      "text/plain": [
       "<IPython.core.display.Image object>"
      ]
     },
     "metadata": {
      "image/gif": {
       "width": 200
      }
     },
     "output_type": "display_data"
    }
   ],
   "source": [
    "gian_dex.evolve(\"Wooper\")"
   ]
  },
  {
   "cell_type": "code",
   "execution_count": null,
   "metadata": {},
   "outputs": [],
   "source": []
  },
  {
   "cell_type": "code",
   "execution_count": null,
   "metadata": {},
   "outputs": [],
   "source": []
  },
  {
   "cell_type": "markdown",
   "metadata": {},
   "source": [
    "#  Final Exercise: <br> <br>Create a Move_Tutor Class that will allow the Pokemon Class to inherit a move list.\n",
    "<br>\n",
    "<p>for an added bonus you can make sure that if a pokemon has 4 moves the user can choose one of them to replace with a new move. </p>"
   ]
  },
  {
   "cell_type": "code",
   "execution_count": null,
   "metadata": {},
   "outputs": [],
   "source": [
    "class Move_Tutor:\n",
    "    def __init__(self):\n",
    "        self.move_list = []"
   ]
  },
  {
   "cell_type": "code",
   "execution_count": null,
   "metadata": {},
   "outputs": [],
   "source": []
  },
  {
   "cell_type": "code",
   "execution_count": null,
   "metadata": {},
   "outputs": [],
   "source": [
    "pikachu.teach_move()\n"
   ]
  },
  {
   "cell_type": "code",
   "execution_count": null,
   "metadata": {},
   "outputs": [],
   "source": [
    "pikachu.show_moves()"
   ]
  }
 ],
 "metadata": {
  "kernelspec": {
   "display_name": "Python 3 (ipykernel)",
   "language": "python",
   "name": "python3"
  },
  "language_info": {
   "codemirror_mode": {
    "name": "ipython",
    "version": 3
   },
   "file_extension": ".py",
   "mimetype": "text/x-python",
   "name": "python",
   "nbconvert_exporter": "python",
   "pygments_lexer": "ipython3",
   "version": "3.9.13"
  }
 },
 "nbformat": 4,
 "nbformat_minor": 4
}
